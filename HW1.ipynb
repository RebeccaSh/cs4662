{
 "cells": [
  {
   "cell_type": "markdown",
   "metadata": {},
   "source": [
    "# CS4662 HW 1"
   ]
  },
  {
   "cell_type": "markdown",
   "metadata": {},
   "source": [
    "a- Read the dataset file “Cancer.csv” (from github using the following command), and assign\n",
    "it to a Pandas DataFrame:\n",
    "df = pd.read_csv(\"https://github.com/mpourhoma/CS4662/raw/master/Cancer.csv\")\n",
    "Check out the dataset. As you see, the dataset includes 9 numerical features. The last\n",
    "column is the binary label (“1” means it is a malignant cancer, “0” means it is a benign\n",
    "tumor). You will use all 9 features in this homework.\n"
   ]
  },
  {
   "cell_type": "code",
   "execution_count": 902,
   "metadata": {},
   "outputs": [],
   "source": [
    "# The following line will import DecisionTreeClassifier \"Class\"\n",
    "# DecisionTreeClassifier is name of a \"sklearn class\" to perform \"Decision Tree Classification\" \n",
    "\n",
    "from sklearn.tree import DecisionTreeClassifier\n",
    "# Importing the required packages and libraries\n",
    "# we will need numpy and pandas later\n",
    "import numpy as np\n",
    "import pandas as pd\n",
    "\n",
    "from sklearn.utils import resample\n"
   ]
  },
  {
   "cell_type": "code",
   "execution_count": 903,
   "metadata": {},
   "outputs": [],
   "source": [
    "# reading a CSV file directly from Web, and store it in a pandas DataFrame:\n",
    "# \"read_csv\" is a pandas function to read csv files from web or local device:\n",
    "\n",
    "df = pd.read_csv(\"https://github.com/mpourhoma/CS4662/raw/master/Cancer.csv\")\n"
   ]
  },
  {
   "cell_type": "code",
   "execution_count": 904,
   "metadata": {},
   "outputs": [],
   "source": [
    "feature_cols = ['Clump_Thickness','Uniformity_of_Cell_Size','Uniformity_of_Cell_Shape','Marginal_Adhesion','Single_Epithelial_Cell_Size','Bare_Nuclei','Bland_Chromatin','Normal_Nucleoli','Mitoses']\n",
    "\n",
    "# use the above list to select the features from the original DataFrame\n",
    "X = df[feature_cols]  \n",
    "\n"
   ]
  },
  {
   "cell_type": "code",
   "execution_count": 905,
   "metadata": {},
   "outputs": [],
   "source": [
    "y = df['Malignant_Cancer']  # or: iris_df['label']\n",
    "\n",
    "# checking the label vector by printing every 10 values"
   ]
  },
  {
   "cell_type": "markdown",
   "metadata": {},
   "source": [
    "b- Use sklearn functions to split the dataset into testing and training sets with the following\n",
    "parameters: test_size=0.3, random_state=2."
   ]
  },
  {
   "cell_type": "code",
   "execution_count": 906,
   "metadata": {},
   "outputs": [],
   "source": [
    "from sklearn.model_selection import train_test_split\n",
    "\n",
    "X_train, X_test, y_train, y_test = train_test_split(X, y, test_size=0.3, random_state=2)"
   ]
  },
  {
   "cell_type": "markdown",
   "metadata": {},
   "source": [
    "c- Use “Decision Tree Classifier” to predict Cancer based on the training/testing datasets\n",
    "that you built in part (h). Then, calculate and report the accuracy and AUC of your\n",
    "classifier. Later in part (g), you will plot the ROC curve as well. Use this command to define\n",
    "your tree: my_DecisionTree = DecisionTreeClassifier(random_state=2)."
   ]
  },
  {
   "cell_type": "code",
   "execution_count": 907,
   "metadata": {},
   "outputs": [
    {
     "name": "stdout",
     "output_type": "stream",
     "text": [
      "accuracy:  0.8666666666666667\n"
     ]
    }
   ],
   "source": [
    "# In the following line, \"my_decisiontree\" is instantiated as an \"object\" of DecisionTreeClassifier \"class\". \n",
    "\n",
    "my_decisiontree = DecisionTreeClassifier(random_state=2)\n",
    "# We can use the method \"fit\" of the \"object my_decisiontree\" along with training dataset and labels to train the model.\n",
    "\n",
    "my_decisiontree.fit(X_train, y_train)\n",
    "y_predict = my_decisiontree.predict(X_test)\n",
    "from sklearn.metrics import accuracy_score\n",
    "# We can now compare the \"predicted labels\" for the Testing Set with its \"actual labels\" to evaluate the accuracy \n",
    "# Function \"accuracy_score\" from \"sklearn.metrics\" will perform the element-to-element comparision and returns the \n",
    "# portion of correct predictions:\n",
    "\n",
    "score = accuracy_score(y_test, y_predict)\n",
    "\n",
    "print('accuracy: ',score)"
   ]
  },
  {
   "cell_type": "code",
   "execution_count": 908,
   "metadata": {},
   "outputs": [],
   "source": [
    "y_predict_lr = my_decisiontree.predict(X_test)\n",
    "\n",
    "# Estimating the probability (likelihood) of Each Label: \n",
    "y_predict_prob_lr = my_decisiontree.predict_proba(X_test)\n"
   ]
  },
  {
   "cell_type": "code",
   "execution_count": 909,
   "metadata": {},
   "outputs": [
    {
     "name": "stdout",
     "output_type": "stream",
     "text": [
      "AUC:  0.8697478991596639\n"
     ]
    },
    {
     "data": {
      "image/png": "[encoded data removed]",
      "text/plain": [
       "<Figure size 432x288 with 1 Axes>"
      ]
     },
     "metadata": {
      "needs_background": "light"
     },
     "output_type": "display_data"
    }
   ],
   "source": [
    "import matplotlib.pyplot as plt\n",
    "from sklearn import metrics\n",
    "from sklearn.metrics import roc_curve\n",
    "from sklearn.metrics import roc_auc_score\n",
    "\n",
    "# Takes in False Positive Rate(fpr) and True Positive rate(tpr)\n",
    "auc = roc_auc_score(y_test, y_predict)\n",
    "fpr, tpr, thresholds = metrics.roc_curve(y_test, y_predict_prob_lr[:,1], pos_label=1)\n",
    "AUC = metrics.auc(fpr, tpr)\n",
    "print('AUC: ',AUC)\n",
    "# Positive values from predictions\n",
    "\n",
    "plt.plot(fpr, tpr, color='orange', label='ROC')\n",
    "plt.plot([0, 1], [0, 1], color='darkblue', linestyle='--')\n",
    "plt.plot('False Positive Rate')\n",
    "plt.plot('True Positive Rate')\n",
    "plt.title('Cancer Diagnosis')\n",
    "plt.legend()\n",
    "plt.show()\n",
    "\n"
   ]
  },
  {
   "cell_type": "markdown",
   "metadata": {},
   "source": [
    "d- Now, we want to perform “Bagging” based on 29 “base decision tree classifiers”.\n",
    "Note: you should write your own code to perform Bagging (don’t use scikit-learn functions\n",
    "for Bagging!)\n",
    "To do so, you need to perform bootstrapping first. You can write a “for” loop with loop\n",
    "variable i=0…18. In each iteration of the loop, you have to:\n",
    "- make a bootstarp sample of the original “Training” Dataset (build in part(b)) with size\n",
    "of bootstarp_size = 0.8*(Size of the original dataset). You can use the following\n",
    "command to generate a random bootstrap dataset (“i\" is the variable of the loop, so\n",
    "the random_state changes in each iteration):\n",
    "resample(X_train, n_samples = bootstarp_size , random_state=i , replace = True)\n",
    "- Define and train a new base decision tree classifier on this dataset in each iteration:\n",
    "Base_DecisionTree = DecisionTreeClassifier(random_state=2).\n",
    "- Test “this base classifier” on the original “Testing” Dataset build in part(b), and save\n",
    "the prediction results for all testing samples.\n",
    "Then, Perform Voting to make the final decision on each data sample based on the votes\n",
    "of all 29 classifiers. Finally, calculate and report the accuracy and AUC of your Bagging\n",
    "method.\n",
    "NOTE: You need to calculate the probability of “malignant cancer” to be able to find AUC\n",
    "and plot the ROC curve. As mentioned in the class, you can consider the average\n",
    "(mean) of the votes as the probability for each sample."
   ]
  },
  {
   "cell_type": "code",
   "execution_count": 910,
   "metadata": {},
   "outputs": [
    {
     "name": "stdout",
     "output_type": "stream",
     "text": [
      "Accuracy:  0.9111111111111111\n",
      "AUC:  0.9380252100840336\n"
     ]
    },
    {
     "data": {
      "image/png": "[encoded data removed]",
      "text/plain": [
       "<Figure size 432x288 with 1 Axes>"
      ]
     },
     "metadata": {
      "needs_background": "light"
     },
     "output_type": "display_data"
    }
   ],
   "source": [
    "predictionlist = []\n",
    "X_train_Sample_size = int(np.floor(0.8*len(X_train)))\n",
    "\n",
    "for i in range(29):\n",
    "    X_train_i , Y_train_i = resample(X_train,y_train, n_samples = X_train_Sample_size , random_state=i , replace = True)\n",
    "    Base_DecisionTree = DecisionTreeClassifier(random_state=2)\n",
    "    Base_DecisionTree.fit(X_train_i, Y_train_i)\n",
    "    y_predict_dt = Base_DecisionTree.predict(X_test)\n",
    "    predictionlist.insert(i, y_predict_dt)\n",
    "    num_all = len(X_test)\n",
    "\n",
    "y_predictFinal = []\n",
    "\n",
    "for j in range(0, num_all):\n",
    "    allpositives = 0\n",
    "    for i in range(29):\n",
    "        allpositives += predictionlist[i][j]\n",
    "    if allpositives > 29/2: y_predictFinal.insert(j,1) \n",
    "    else: y_predictFinal.insert(j,0)\n",
    "\n",
    "        \n",
    "# calculate accuracy of the bagging (voting) method\n",
    "score2 = accuracy_score(y_test, y_predictFinal) \n",
    "print('Accuracy: ',score2)\n",
    "\n",
    "bagging_results = pd.DataFrame()\n",
    "bagging_results['actual'] = y_test\n",
    "bagging_results['prediction'] = voting\n",
    "#print(voting)\n",
    "proba_All = [[]]\n",
    "proba_Zero = []\n",
    "proba_One=[]\n",
    "\n",
    "for i in range(45): \n",
    "    countZero = 0\n",
    "    countOne = 0\n",
    "    for j in range(29):\n",
    "        #ans.append(result[j][i])\n",
    "        if(predictionlist[j][i] == 0):\n",
    "            countZero+= 1;\n",
    "        #ans2.append(countOne)\n",
    "        \n",
    "    proba_Zero.append(countZero/29.0)\n",
    "    proba_One.append((29-countZero)/29.0)\n",
    "    proba_All[i].append((countZero/29.0))\n",
    "    proba_All[i].append((29-countZero)/29.0)\n",
    "    proba_All.append([])\n",
    "    \n",
    "proba_All.remove([])    \n",
    "#print(proba_All)\n",
    "\n",
    "fpr2, tpr2, thresholds = metrics.roc_curve(y_test, proba_One, pos_label=1)\n",
    "AUC2 = metrics.auc(fpr2, tpr2)\n",
    "print('AUC: ',AUC2)\n",
    "# Positive values from predictions\n",
    "\n",
    "plt.plot(fpr2, tpr2, color='orange', label='ROC')\n",
    "plt.plot([0, 1], [0, 1], color='darkblue', linestyle='--')\n",
    "plt.plot('False Positive Rate')\n",
    "plt.plot('True Positive Rate')\n",
    "plt.title('Cancer Diagnosis')\n",
    "plt.legend()\n",
    "plt.show()"
   ]
  },
  {
   "cell_type": "markdown",
   "metadata": {},
   "source": [
    "e- Use scikit-learn “Adaboost” classifier to predict Cancer based on the training/testing\n",
    "datasets that you built in part (b). Then, calculate and report the accuracy and AUC of\n",
    "your classifier. Use this command to import and define your classifier:\n",
    "from sklearn.ensemble import AdaBoostClassifier\n",
    "my_AdaBoost = AdaBoostClassifier(n_estimators = 29,random_state=2)"
   ]
  },
  {
   "cell_type": "code",
   "execution_count": 911,
   "metadata": {},
   "outputs": [
    {
     "name": "stdout",
     "output_type": "stream",
     "text": [
      "Accuracy: 0.9555555555555556\n"
     ]
    }
   ],
   "source": [
    "from sklearn.ensemble import AdaBoostClassifier\n",
    "X_train, X_test, y_train, y_test = train_test_split(X, y, test_size=0.3, random_state=2)\n",
    "abc = AdaBoostClassifier(n_estimators=29,random_state=2)\n",
    "# Train Adaboost Classifer\n",
    "modelabc = abc.fit(X_train, y_train)\n",
    "\n",
    "#Predict the response for test dataset\n",
    "y_pred = modelabc.predict(X_test)\n",
    "\n",
    "from sklearn.metrics import accuracy_score\n",
    "\n",
    "score3 = accuracy_score(y_test, y_pred)\n",
    "\n",
    "print(\"Accuracy:\",score3)"
   ]
  },
  {
   "cell_type": "code",
   "execution_count": 912,
   "metadata": {},
   "outputs": [
    {
     "name": "stdout",
     "output_type": "stream",
     "text": [
      "AUC:  0.9653361344537815\n"
     ]
    },
    {
     "data": {
      "image/png": "[encoded data removed]",
      "text/plain": [
       "<Figure size 432x288 with 1 Axes>"
      ]
     },
     "metadata": {
      "needs_background": "light"
     },
     "output_type": "display_data"
    }
   ],
   "source": [
    "# Takes in False Positive Rate(fpr) and True Positive rate(tpr)\n",
    "y_predict_prob_lr3 = abc.predict_proba(X_test)\n",
    "auc = roc_auc_score(y_test, y_pred)\n",
    "fpr3, tpr3, thresholds = metrics.roc_curve(y_test, y_predict_prob_lr3[:,1], pos_label=1)\n",
    "AUC3 = metrics.auc(fpr3, tpr3)\n",
    "print('AUC: ',AUC3)\n",
    "# Positive values from predictions\n",
    "\n",
    "plt.plot(fpr3, tpr3, color='orange', label='ROC')\n",
    "plt.plot([0, 1], [0, 1], color='darkblue', linestyle='--')\n",
    "plt.plot('False Positive Rate')\n",
    "plt.plot('True Positive Rate')\n",
    "plt.title('Cancer Diagnosis')\n",
    "plt.legend()\n",
    "plt.show()\n"
   ]
  },
  {
   "cell_type": "markdown",
   "metadata": {},
   "source": [
    "f- In this section, we use an extremely popular Boosting algorithm called “XGBoost”. This\n",
    "algorithm is not included in sklearn, so you need to install the XGBoost library. Please see\n",
    "this for more infor: https://xgboost.readthedocs.io/en/latest/build.html\n",
    "Mac users can easily install it with “pip install xgboost”.\n",
    "Repeat part (e) with XGBoost. Use this command to import and define your classifier:\n",
    "from xgboost import XGBClassifier\n",
    "my_XGBoost = XGBClassifier(n_estimators = 29,random_state=2)"
   ]
  },
  {
   "cell_type": "code",
   "execution_count": 913,
   "metadata": {},
   "outputs": [
    {
     "name": "stdout",
     "output_type": "stream",
     "text": [
      "Accuracy:  0.9555555555555556\n"
     ]
    }
   ],
   "source": [
    "from xgboost import XGBClassifier \n",
    "X_train, X_test, y_train, y_test = train_test_split(X, y, test_size=0.3, random_state=2)\n",
    "my_XGBoost = XGBClassifier(n_estimators = 29,random_state=2)\n",
    "\n",
    "# Train Adaboost Classifer\n",
    "modelxgboost = my_XGBoost.fit(X_train, y_train)\n",
    "\n",
    "#Predict the response for test dataset\n",
    "y_predict = modelxgboost.predict(X_test)\n",
    "\n",
    "from sklearn.metrics import accuracy_score\n",
    "\n",
    "score4 = accuracy_score(y_test, y_predict)\n",
    "\n",
    "print(\"Accuracy: \",score4)"
   ]
  },
  {
   "cell_type": "code",
   "execution_count": 914,
   "metadata": {},
   "outputs": [
    {
     "name": "stdout",
     "output_type": "stream",
     "text": [
      "AUC:  0.9621848739495799\n"
     ]
    },
    {
     "data": {
      "image/png": "[encoded data removed]",
      "text/plain": [
       "<Figure size 432x288 with 1 Axes>"
      ]
     },
     "metadata": {
      "needs_background": "light"
     },
     "output_type": "display_data"
    }
   ],
   "source": [
    "y_predict_prob_lr4 = my_XGBoost.predict_proba(X_test)\n",
    "auc = roc_auc_score(y_test, y_pred)\n",
    "fpr4, tpr4, thresholds = metrics.roc_curve(y_test, y_predict_prob_lr4[:,1], pos_label=1)\n",
    "AUC4 = metrics.auc(fpr4, tpr4)\n",
    "print('AUC: ',AUC4)\n",
    "# Positive values from predictions\n",
    "\n",
    "plt.plot(fpr4, tpr4, color='orange', label='ROC')\n",
    "plt.plot([0, 1], [0, 1], color='darkblue', linestyle='--')\n",
    "plt.plot('False Positive Rate')\n",
    "plt.plot('True Positive Rate')\n",
    "plt.title('Cancer Diagnosis')\n",
    "plt.legend()\n",
    "plt.show()\n"
   ]
  },
  {
   "cell_type": "markdown",
   "metadata": {},
   "source": [
    "g- Use scikit-learn “Random Forest” classifier to predict Cancer based on the training/testing\n",
    "datasets that you built in part (b). Then, calculate and report the accuracy and AUC of\n",
    "your classifier. Use this command to import and define your classifier:\n",
    "from sklearn.ensemble import RandomForestClassifier\n",
    "my_RandomForest =\n",
    "RandomForestClassifier(n_estimators = 29, bootstrap = True, random_state=2)"
   ]
  },
  {
   "cell_type": "code",
   "execution_count": 915,
   "metadata": {},
   "outputs": [
    {
     "name": "stdout",
     "output_type": "stream",
     "text": [
      "Accuracy for Randomforest:  0.9555555555555556\n"
     ]
    }
   ],
   "source": [
    "from sklearn.ensemble import RandomForestClassifier\n",
    "X_train, X_test, y_train, y_test = train_test_split(X, y, test_size=0.3, random_state=2)\n",
    "my_RandomForest = RandomForestClassifier(n_estimators=29, bootstrap=True, random_state=2)\n",
    "my_RandomForest.fit(X_train, y_train)\n",
    "\n",
    "rf_predict = my_RandomForest.predict(X_test)\n",
    "\n",
    "score5 = accuracy_score(y_test, rf_predict)\n",
    "\n",
    "rf_results = pd.DataFrame()\n",
    "rf_results['actual'] = y_test\n",
    "rf_results['prediction'] = rf_predict\n",
    "\n",
    "print('Accuracy for Randomforest: ',score5)"
   ]
  },
  {
   "cell_type": "code",
   "execution_count": 916,
   "metadata": {},
   "outputs": [
    {
     "name": "stdout",
     "output_type": "stream",
     "text": [
      "AUC:  0.9516806722689075\n"
     ]
    },
    {
     "data": {
      "image/png": "[encoded data removed]",
      "text/plain": [
       "<Figure size 432x288 with 1 Axes>"
      ]
     },
     "metadata": {
      "needs_background": "light"
     },
     "output_type": "display_data"
    }
   ],
   "source": [
    "y_predict_prob_lr5 = my_RandomForest.predict_proba(X_test)\n",
    "\n",
    "auc = roc_auc_score(y_test, y_predict)\n",
    "fpr5, tpr5, thresholds = metrics.roc_curve(y_test, y_predict_prob_lr5[:,1], pos_label=1)\n",
    "AUC5 = metrics.auc(fpr5, tpr5)\n",
    "print('AUC: ',AUC5)\n",
    "# Positive values from predictions\n",
    "\n",
    "plt.plot(fpr5, tpr5, color='orange', label='ROC')\n",
    "plt.plot([0, 1], [0, 1], color='darkblue', linestyle='--')\n",
    "plt.plot('False Positive Rate')\n",
    "plt.plot('True Positive Rate')\n",
    "plt.title('Cancer Diagnosis')\n",
    "plt.legend()\n",
    "plt.show()\n"
   ]
  },
  {
   "cell_type": "markdown",
   "metadata": {},
   "source": [
    "h- Now, plot the ROC curves of your algorithms in parts (c), (d), (e), (f), (g) in a single plane\n",
    "with different colors along with the name of each method. Show the AUCs on the graph\n",
    "as well.\n",
    "- Which algorithm is the best w.r.t the AUC value?\n",
    "- Which algorithm is the best w.r.t the Accuracy value?\n",
    "- Which algorithm is the best when we want a False Positive Rate of %7?"
   ]
  },
  {
   "cell_type": "code",
   "execution_count": 917,
   "metadata": {},
   "outputs": [
    {
     "data": {
      "image/png": "[encoded data removed]",
      "text/plain": [
       "<Figure size 432x288 with 1 Axes>"
      ]
     },
     "metadata": {
      "needs_background": "light"
     },
     "output_type": "display_data"
    }
   ],
   "source": [
    "%matplotlib inline\n",
    "\n",
    "plt.figure()\n",
    "\n",
    "# Roc Curve1 Decision Tree Classifier:\n",
    "plt.plot(fpr, tpr, color='red', lw=2, label='Decision Tree ROC (area = %0.2f)' % AUC)\n",
    "\n",
    "# Roc Curve2 Bagging:\n",
    "plt.plot(fpr2, tpr2, color='orange', lw=2,  label='Bagging ROC (area = %0.2f)' % AUC2)\n",
    "\n",
    "# Roc Curve3 Adaboost:\n",
    "plt.plot(fpr3, tpr3, color='yellow', lw=2, label='Adaboost ROC(area = %0.2f)' % AUC3)\n",
    "\n",
    " #Roc Curve4 XGBoost:\n",
    "plt.plot(fpr4, tpr4, color='green', lw=2, label='XGBoost ROC(area = %0.2f)' % AUC4)\n",
    "\n",
    "\n",
    "# Roc Curve5 Random Forest:\n",
    "plt.plot(fpr5, tpr5, color='blue', lw=2, \n",
    "         label='Random Forest ROC(area = %0.2f)' % AUC5)\n",
    "\n",
    "# Random Guess line:\n",
    "plt.plot([0, 1], [0, 1], color='blue', lw=1, linestyle='--')\n",
    "\n",
    "# Defining The Range of X-Axis and Y-Axis:\n",
    "plt.xlim([-0.005, 1.005])\n",
    "plt.ylim([0.0, 1.01])\n",
    "\n",
    "# Labels, Title, Legend:\n",
    "plt.xlabel('False Positive Rate')\n",
    "plt.ylabel('True Positive Rate')\n",
    "plt.title('Receiver operating characteristic')\n",
    "plt.legend(loc=\"lower right\")\n",
    "\n",
    "plt.show()"
   ]
  },
  {
   "cell_type": "code",
   "execution_count": 918,
   "metadata": {},
   "outputs": [
    {
     "name": "stdout",
     "output_type": "stream",
     "text": [
      "Accuracy for Decision Tree:  0.8666666666666667\n",
      "Accuracy for bagging:  0.9111111111111111\n",
      "Accuracy for Adaboost:  0.9555555555555556\n",
      "Accuracy for XGboost:  0.9555555555555556\n",
      "Accuracy for Random Forest:  0.9555555555555556\n"
     ]
    }
   ],
   "source": [
    "print('Accuracy for Decision Tree: ',score)\n",
    "print('Accuracy for bagging: ',score2)\n",
    "print('Accuracy for Adaboost: ',score3)\n",
    "print('Accuracy for XGboost: ',score4)\n",
    "print('Accuracy for Random Forest: ',score5)\n"
   ]
  },
  {
   "cell_type": "markdown",
   "metadata": {},
   "source": [
    "### Which algorithm is the best w.r.t the AUC value?\n"
   ]
  },
  {
   "cell_type": "code",
   "execution_count": 919,
   "metadata": {},
   "outputs": [
    {
     "name": "stdout",
     "output_type": "stream",
     "text": [
      "Adaboost algorithm is the best w.r.t the AUC value\n",
      "AUC value for Adaboost:  0.9653361344537815\n"
     ]
    }
   ],
   "source": [
    "print('Adaboost algorithm is the best w.r.t the AUC value')\n",
    "print('AUC value for Adaboost: ',AUC3)"
   ]
  },
  {
   "cell_type": "markdown",
   "metadata": {},
   "source": [
    "### Which algorithm is the best w.r.t the Accuracy value?\n"
   ]
  },
  {
   "cell_type": "code",
   "execution_count": 920,
   "metadata": {},
   "outputs": [
    {
     "name": "stdout",
     "output_type": "stream",
     "text": [
      "Adaboost,XGboost and Random Forest algorithm is the best w.r.t the AUC value\n",
      "AUC value :  0.9555555555555556\n"
     ]
    }
   ],
   "source": [
    "print('Adaboost,XGboost and Random Forest algorithm is the best w.r.t the AUC value')\n",
    "print('AUC value : ',score3)"
   ]
  },
  {
   "cell_type": "markdown",
   "metadata": {},
   "source": [
    "### Which algorithm is the best when we want a False Positive Rate of %7?"
   ]
  },
  {
   "cell_type": "markdown",
   "metadata": {},
   "source": [
    "Random Forest"
   ]
  }
 ],
 "metadata": {
  "kernelspec": {
   "display_name": "Python 3",
   "language": "python",
   "name": "python3"
  },
  "language_info": {
   "codemirror_mode": {
    "name": "ipython",
    "version": 3
   },
   "file_extension": ".py",
   "mimetype": "text/x-python",
   "name": "python",
   "nbconvert_exporter": "python",
   "pygments_lexer": "ipython3",
   "version": "3.7.3"
  }
 },
 "nbformat": 4,
 "nbformat_minor": 2
}
